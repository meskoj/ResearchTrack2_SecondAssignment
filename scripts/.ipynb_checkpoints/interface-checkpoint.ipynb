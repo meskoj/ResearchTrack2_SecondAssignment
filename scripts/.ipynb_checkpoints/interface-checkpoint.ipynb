{
 "cells": [
  {
   "cell_type": "code",
   "execution_count": 1,
   "id": "ff51fcb9",
   "metadata": {},
   "outputs": [],
   "source": [
    "%matplotlib widget\n",
    "import jupyros as jr\n",
    "import rospy\n",
    "import ipywidgets as widgets\n",
    "from IPython.display import display, clear_output\n",
    "import time\n",
    "import numpy as np\n",
    "from matplotlib.animation import FuncAnimation\n",
    "import matplotlib.pyplot as plt\n",
    "\n",
    "from nav_msgs.msg import Odometry\n",
    "from assignment_2_2023.msg import Interface\n",
    "from assignment_2_2023.msg import PlanningActionGoal\n",
    "from actionlib_msgs.msg import GoalStatusArray"
   ]
  },
  {
   "cell_type": "code",
   "execution_count": 2,
   "id": "08b532da",
   "metadata": {},
   "outputs": [],
   "source": [
    "# DEFINE GLOBAL VARIABLES AND FUNCTION\n",
    "\n",
    "set_goal = []\n",
    "cancelled_goal = []\n",
    "new_goal = False\n",
    "reached_goal = 0\n",
    "\n",
    "# Function to handle changes in the dropdown value of the option selection\n",
    "\n",
    "def on_dropdown_change(change):\n",
    "    clear_output(wait = True)\n",
    "    display(label,dropdown)\n",
    "    \n",
    "    if change['new'] == 1:\n",
    "        # If the new value is 1, display the sliders\n",
    "        display(x_slider)\n",
    "        display(y_slider)       \n",
    "    display(button)\n",
    "        \n",
    "# Function to send the message when the button is clicked\n",
    "\n",
    "def send_message_button(b):\n",
    "    global new_goal\n",
    "\n",
    "    msg.sel = dropdown.value\n",
    "    if(dropdown.value == 1):\n",
    "        msg.x = x_slider.value\n",
    "        msg.y = y_slider.value\n",
    "    elif(dropdown.value == 2):\n",
    "         # Check that the goal list is not empty\n",
    "        if set_goal:\n",
    "            last_element_goal = set_goal[-1]\n",
    "            # Check that the cancelled goal list is not empty\n",
    "            if cancelled_goal:\n",
    "                if new_goal:\n",
    "                    cancelled_goal.append(last_element_goal)\n",
    "            else:\n",
    "                cancelled_goal.append(last_element_goal)\n",
    "        text3.value = f\"Cancelled goal: {cancelled_goal}\"\n",
    "        new_goal = False\n",
    "    # Publish the message\n",
    "    pub.publish(msg)\n",
    "\n",
    "    \n",
    "def odometry_callback(msg):\n",
    "    # Get position from the msg in the /odom topic\n",
    "    actual_x = msg.pose.pose.position.x\n",
    "    actual_y = msg.pose.pose.position.y\n",
    "    # Update the widget with the new position\n",
    "    text.value = f\"Actual x position: {actual_x}, Actual y position: {actual_y}\"\n",
    "    \n",
    "def goal_callback(msg):\n",
    "    global new_goal\n",
    "    goal_x = msg.goal.target_pose.pose.position.x\n",
    "    goal_y = msg.goal.target_pose.pose.position.y\n",
    "    new_goal = True\n",
    "    set_goal.append((goal_x, goal_y))  # Store the coordinates as a tuple\n",
    "    text2.value = f\"Goal: {set_goal}\"\n",
    "    \n",
    "def goal_status(msg):\n",
    "    global reached_goal, new_goal\n",
    "    for status in msg.status_list:\n",
    "        if status.status == 3 and new_goal:  # 3 corresponds to SUCCEEDED status\n",
    "            reached_goal = reached_goal + 1\n",
    "            new_goal = False"
   ]
  },
  {
   "cell_type": "code",
   "execution_count": 3,
   "id": "05ce952c",
   "metadata": {},
   "outputs": [
    {
     "data": {
      "application/vnd.jupyter.widget-view+json": {
       "model_id": "0d8d7f678cff4f93af3f31c14136736f",
       "version_major": 2,
       "version_minor": 0
      },
      "text/plain": [
       "Label(value='Select an action:')"
      ]
     },
     "metadata": {},
     "output_type": "display_data"
    },
    {
     "data": {
      "application/vnd.jupyter.widget-view+json": {
       "model_id": "4e2f688b00e14533936fb1f480876068",
       "version_major": 2,
       "version_minor": 0
      },
      "text/plain": [
       "Dropdown(index=1, options=(('Set target', 1), ('Cancel target', 2), ('Close program', 3)), value=2)"
      ]
     },
     "metadata": {},
     "output_type": "display_data"
    },
    {
     "data": {
      "application/vnd.jupyter.widget-view+json": {
       "model_id": "1461cf96c48c4d3e8cdeb2ad9d4c741c",
       "version_major": 2,
       "version_minor": 0
      },
      "text/plain": [
       "Button(description='Send Message', style=ButtonStyle())"
      ]
     },
     "metadata": {},
     "output_type": "display_data"
    }
   ],
   "source": [
    "# Display the widget to select the action\n",
    "label = widgets.Label('Select an action:')\n",
    "dropdown = widgets.Dropdown(\n",
    "    options = [('Set target', 1), ('Cancel target', 2), ('Close program', 3)],\n",
    "    value = None,\n",
    ")\n",
    "\n",
    "display(label, dropdown)\n",
    "\n",
    "# Create slider widgets for x and y values\n",
    "x_slider = widgets.IntSlider(min=-9, max=9, description='X:')\n",
    "y_slider = widgets.IntSlider(min=-9, max=9, description='Y:')\n",
    "\n",
    "# Attach the function to the dropdown\n",
    "dropdown.observe(on_dropdown_change, names='value')   "
   ]
  },
  {
   "cell_type": "code",
   "execution_count": 4,
   "id": "a28e78c3",
   "metadata": {},
   "outputs": [
    {
     "data": {
      "application/vnd.jupyter.widget-view+json": {
       "model_id": "83bef42ac5854373884835e312552d8e",
       "version_major": 2,
       "version_minor": 0
      },
      "text/plain": [
       "Textarea(value='', layout=Layout(width='auto'))"
      ]
     },
     "metadata": {},
     "output_type": "display_data"
    },
    {
     "data": {
      "application/vnd.jupyter.widget-view+json": {
       "model_id": "51e2c807101a446895f01b43db6120de",
       "version_major": 2,
       "version_minor": 0
      },
      "text/plain": [
       "Textarea(value='', layout=Layout(width='auto'))"
      ]
     },
     "metadata": {},
     "output_type": "display_data"
    },
    {
     "data": {
      "application/vnd.jupyter.widget-view+json": {
       "model_id": "f81e7fd0573f48a4aff7432e14091b2c",
       "version_major": 2,
       "version_minor": 0
      },
      "text/plain": [
       "Textarea(value='', layout=Layout(width='auto'))"
      ]
     },
     "metadata": {},
     "output_type": "display_data"
    }
   ],
   "source": [
    "# Create a button widget to send the message\n",
    "button = widgets.Button(description='Send Message')\n",
    "button.on_click(send_message_button)\n",
    "text = widgets.Textarea(layout=widgets.Layout(width='auto'))\n",
    "text2 = widgets.Textarea(layout=widgets.Layout(width='auto'))\n",
    "text3 = widgets.Textarea(layout=widgets.Layout(width='auto'))\n",
    "# Display the widget\n",
    "display(text)\n",
    "display(text2)\n",
    "display(text3)\n",
    "\n",
    "# ROS \n",
    "rospy.init_node(\"interface_node\")\n",
    "pub = rospy.Publisher(\"/interface\", Interface, queue_size = 1)\n",
    "jr.subscribe(\"/odom\", Odometry, odometry_callback)\n",
    "jr.subscribe(\"/reaching_goal/goal\", PlanningActionGoal, goal_callback)\n",
    "jr.subscribe('/reaching_goal/status', GoalStatusArray, goal_status)  \n",
    "msg = Interface()"
   ]
  },
  {
   "cell_type": "code",
   "execution_count": 5,
   "id": "fbd581b1",
   "metadata": {
    "scrolled": true
   },
   "outputs": [
    {
     "data": {
      "application/vnd.jupyter.widget-view+json": {
       "model_id": "d4bd91b8479f4094803b8f46ea30956c",
       "version_major": 2,
       "version_minor": 0
      },
      "text/plain": [
       "Canvas(toolbar=Toolbar(toolitems=[('Home', 'Reset original view', 'home', 'home'), ('Back', 'Back to previous …"
      ]
     },
     "metadata": {},
     "output_type": "display_data"
    }
   ],
   "source": [
    "# PLOT ROBOT'S POSITION AND TARGET'S POSITION\n",
    "class Visualiser:\n",
    "    def __init__(self):\n",
    "        self.fig, self.ax = plt.subplots()\n",
    "        self.ln, = plt.plot([], [], 'go')\n",
    "        self.target, = plt.plot([], [],'ro')\n",
    "        self.x_data, self.y_data = [] , []\n",
    "        self.x_target, self.y_target = [] , []\n",
    "        plt.gca().invert_xaxis()\n",
    "        plt.gca().invert_yaxis()\n",
    "\n",
    "    def plot_init(self):\n",
    "        self.ax.set_xlim(-9, 9)\n",
    "        self.ax.set_ylim(-9, 9)\n",
    "        return self.ln,\n",
    "    \n",
    "    def odom_callback(self, msg):\n",
    "        self.y_data.append(-msg.pose.pose.position.y)\n",
    "        self.x_data.append(-msg.pose.pose.position.x)\n",
    "\n",
    "    def update_plot(self, frame):\n",
    "        self.ln.set_data(self.x_data, self.y_data)\n",
    "        if(new_goal):\n",
    "            self.target.set_data(-(np.array(set_goal[-1]))) # This is necessary to select the target and change the value, since the axes are inverted\n",
    "        return self.ln,\n",
    "    \n",
    "vis = Visualiser()\n",
    "plot_sub = rospy.Subscriber(\"/odom\", Odometry, vis.odom_callback)\n",
    "ani = FuncAnimation(vis.fig, vis.update_plot, init_func=vis.plot_init)\n",
    "plt.show(block = True)"
   ]
  },
  {
   "cell_type": "code",
   "execution_count": 6,
   "id": "0885b908",
   "metadata": {},
   "outputs": [
    {
     "data": {
      "application/vnd.jupyter.widget-view+json": {
       "model_id": "2622e6f24baf4547b8b2726edaaf4048",
       "version_major": 2,
       "version_minor": 0
      },
      "text/plain": [
       "Canvas(toolbar=Toolbar(toolitems=[('Home', 'Reset original view', 'home', 'home'), ('Back', 'Back to previous …"
      ]
     },
     "metadata": {},
     "output_type": "display_data"
    }
   ],
   "source": [
    "def update_histo(frame):\n",
    "    plt.clf() \n",
    "    plt.bar(['Reached Goals', 'Cancelled Goals'], [reached_goal, len(cancelled_goal)])\n",
    "    plt.ylabel('Number of Goals')\n",
    "\n",
    "fig, ax = plt.subplots()\n",
    "\n",
    "anim = FuncAnimation(fig, update_histo, frames=None, interval=1000)  # Interval is in milliseconds\n",
    "\n",
    "plt.show()"
   ]
  },
  {
   "cell_type": "code",
   "execution_count": null,
   "id": "35bf49af",
   "metadata": {},
   "outputs": [],
   "source": []
  }
 ],
 "metadata": {
  "kernelspec": {
   "display_name": "Python 3 (ipykernel)",
   "language": "python",
   "name": "python3"
  },
  "language_info": {
   "codemirror_mode": {
    "name": "ipython",
    "version": 3
   },
   "file_extension": ".py",
   "mimetype": "text/x-python",
   "name": "python",
   "nbconvert_exporter": "python",
   "pygments_lexer": "ipython3",
   "version": "3.8.5"
  }
 },
 "nbformat": 4,
 "nbformat_minor": 5
}
